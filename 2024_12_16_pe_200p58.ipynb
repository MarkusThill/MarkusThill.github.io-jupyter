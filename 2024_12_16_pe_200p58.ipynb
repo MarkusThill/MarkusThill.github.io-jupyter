{
  "nbformat": 4,
  "nbformat_minor": 0,
  "metadata": {
    "colab": {
      "provenance": [],
      "gpuType": "T4",
      "authorship_tag": "ABX9TyOEI6CRakZmbC/X0PqmUlzk",
      "include_colab_link": true
    },
    "kernelspec": {
      "name": "python3",
      "display_name": "Python 3"
    },
    "language_info": {
      "name": "python"
    },
    "accelerator": "GPU"
  },
  "cells": [
    {
      "cell_type": "markdown",
      "metadata": {
        "id": "view-in-github",
        "colab_type": "text"
      },
      "source": [
        "<a href=\"https://colab.research.google.com/github/MarkusThill/MarkusThill.github.io-jupyter/blob/main/2024_12_16_pe_200p58.ipynb\" target=\"_parent\"><img src=\"https://colab.research.google.com/assets/colab-badge.svg\" alt=\"Open In Colab\"/></a>"
      ]
    },
    {
      "cell_type": "markdown",
      "source": [
        "# Fast Computation of the Lagged Fibonacci Generator\n",
        "\n",
        "We define the sequence of a lagged Fibonacci generator as:\n",
        "\n",
        "$$\n",
        "S_n = \\begin{cases}\n",
        "      1, & 0 \\le n < D \\\\\n",
        "      S_{n-D} + S_{n - D+1} \\pmod m, & n \\ge D\n",
        "   \\end{cases},\n",
        "$$\n",
        "\n",
        "where $m \\in \\mathbb{N}^+$ is a modulus larger than 1.\n"
      ],
      "metadata": {
        "id": "F8OqJHm-jDw4"
      }
    },
    {
      "cell_type": "markdown",
      "source": [
        "# Naive Implementation\n",
        "\n",
        "Below we show a simple example with a naive implementation of the sequence:\n",
        "\n"
      ],
      "metadata": {
        "id": "mcZLcI15u4EJ"
      }
    },
    {
      "cell_type": "code",
      "source": [
        "D = 4\n",
        "n = 50\n",
        "m = 1234"
      ],
      "metadata": {
        "id": "pit1IfhvDZ2K"
      },
      "execution_count": 5,
      "outputs": []
    },
    {
      "cell_type": "code",
      "execution_count": 6,
      "metadata": {
        "id": "LJBE9uay2xLw",
        "colab": {
          "base_uri": "https://localhost:8080/"
        },
        "outputId": "11f123d2-0daf-4ecc-9bc9-9e1b45e55343"
      },
      "outputs": [
        {
          "output_type": "stream",
          "name": "stdout",
          "text": [
            "Time needed (in seconds): 0.0001308917999267578\n",
            "Solution for S_30 (mod 100) is 71\n",
            "The whole sequence is:\n",
            "[1, 1, 1, 1, 1, 2, 2, 2, 2, 3, 4, 4, 4, 5, 7, 8, 8, 9, 12, 15, 16, 17, 21, 27, 31, 33, 38, 48, 58, 64, 71]\n"
          ]
        }
      ],
      "source": [
        "from typing import Callable\n",
        "import time\n",
        "\n",
        "def naive_lfib(D: int, m: int) -> Callable[[int, bool], list[int] | int]:\n",
        "    \"\"\"\n",
        "    Creates a Lagged Fibonacci Generator (LFG) function.\n",
        "\n",
        "    Args:\n",
        "        D (int): The lag period of the generator. Must be >= 2.\n",
        "        m (int): The modulus to apply for generating the sequence. Must be > 0.\n",
        "\n",
        "    Returns:\n",
        "        Callable[[int, bool], list[int] | int]: A generator function that produces\n",
        "        the sequence up to the nth element or the last element only.\n",
        "\n",
        "        The generator function has the following parameters:\n",
        "            n (int): The number of terms to generate in the sequence. Must be >= D.\n",
        "            full_sequence (bool): Whether to return the full sequence or just the nth term.\n",
        "                Defaults to True (return full sequence).\n",
        "\n",
        "    Examples:\n",
        "        >>> gen = naive_lfib(5, 100)\n",
        "        >>> S = gen(10)\n",
        "        >>> print(S)  # Full sequence\n",
        "        >>> print(gen(10, full_sequence=False))  # Last term only\n",
        "    \"\"\"\n",
        "    def generator(n: int, full_sequence: bool = True) -> list[int] | int:\n",
        "        if D < 2:\n",
        "            raise ValueError(\"D must be at least 2.\")\n",
        "        if m <= 0:\n",
        "            raise ValueError(\"m must be greater than 0.\")\n",
        "        if n < D:\n",
        "            raise ValueError(\"n must be greater than or equal to D.\")\n",
        "\n",
        "        # Initialize the sequence with D initial terms set to 1\n",
        "        S: list[int] = [1] * D\n",
        "\n",
        "        # Generate terms up to the nth term using the LFG formula\n",
        "        for _ in range(n - D + 1):\n",
        "            S.append((S[-D] + S[-D + 1]) % m)\n",
        "\n",
        "        # Return the full sequence or just the last term based on the flag\n",
        "        return S if full_sequence else S[-1]\n",
        "\n",
        "    return generator\n",
        "\n",
        "# Example usage\n",
        "D = 5\n",
        "m = 100\n",
        "n = 30\n",
        "\n",
        "start = time.time()\n",
        "gen = naive_lfib(D, m)\n",
        "S = gen(n)\n",
        "\n",
        "print(\"Time needed (in seconds):\", time.time() - start)\n",
        "\n",
        "print(f\"Solution for S_{n} (mod {m}) is {S[-1]}\")\n",
        "print(\"The whole sequence is:\")\n",
        "print(S)\n"
      ]
    },
    {
      "cell_type": "markdown",
      "source": [
        "# Faster Implementation\n",
        "\n",
        "However, the above approach quickly becomes infeasible once the values of $n$ get larger. In this case, a more efficient implementation is necessary. Although it may not be the most efficient approach, we choose to compute $S_n$ using a binary & modular exponentiation algorithm, which can efficiently compute powers of a matrix $\\mathbf Q$. The core idea is to obtain $S_n$ by means of a multiplication $\\mathbf Q \\cdot \\mathbf s_{n-1}$, where $\\mathbf Q \\in \\mathbb{N}^{D \\times D}$ and $\\mathbf s_{n-1} = \\begin{bmatrix} S_{n-D} & \\ldots & S_{n-2} & S_{n-1}\\end{bmatrix}^\\mathsf{T} \\in \\mathbb{N}^D$.\n",
        "\n",
        "For example, for $D = 5$, we compute $S_n$ using the matrix $\\mathbf Q$ and vector $\\mathbf s_{n-1}$ as follows:\n",
        "\n",
        "$$\n",
        "\\mathbf s_n = \\left[\\begin{matrix}\n",
        "0 & 1 & 0 & 0 & 0 \\\\\n",
        "0 & 0 & 1 & 0 & 0 \\\\\n",
        "0 & 0 & 0 & 1 & 0 \\\\\n",
        "0 & 0 & 0 & 0 & 1 \\\\\n",
        "1 & 1 & 0 & 0 & 0\n",
        "\\end{matrix}\\right]\n",
        "\\left[\\begin{matrix}\n",
        "S_{n-5} \\\\\n",
        "S_{n-4} \\\\\n",
        "S_{n-3} \\\\\n",
        "S_{n-2} \\\\\n",
        "S_{n-1}\n",
        "\\end{matrix} \\right] =\n",
        "\\left[\\begin{matrix}\n",
        "S_{n-4} \\\\\n",
        "S_{n-3} \\\\\n",
        "S_{n-2} \\\\\n",
        "S_{n-1} \\\\\n",
        "S_{n-5} + S_{n-4}\n",
        "\\end{matrix} \\right], \\quad n \\geq D.\n",
        "$$\n",
        "\n",
        "The two ones in the last row of $\\mathbf Q$ correspond to the lagged sum $S_{n-D} + S_{n-D+1}$, while the diagonal of ones results in a delay operation. The trick now is that we can compute $\\mathbf s_n$, $\\mathbf s_{n+1}$, $\\mathbf s_{n+2}$, etc., by repeatedly multiplying $\\mathbf s_{n-1}$ with the matrix $\\mathbf Q$:\n",
        "\n",
        "$$\n",
        "\\begin{align}\n",
        "\\mathbf s_{n} &= \\mathbf Q \\mathbf s_{n-1}, \\\\\n",
        "\\mathbf s_{n+1} &= \\mathbf Q \\mathbf s_{n} = \\mathbf Q^2 \\mathbf s_{n-1}, \\\\\n",
        "\\vdots \\quad & \\\\\n",
        "\\mathbf s_{n+k} &= \\mathbf Q \\mathbf s_{n+k-1} = \\mathbf Q^{k+1} \\mathbf s_{n-1},\n",
        "\\end{align}\n",
        "$$\n",
        "\n",
        "with $n \\geq D, \\, k \\geq 0$.\n",
        "\n",
        "Hence, we have:\n",
        "\n",
        "$$\n",
        "\\mathbf s_{D} = \\mathbf Q \\cdot \\mathbf 1,\n",
        "$$\n",
        "\n",
        "since $\\mathbf s_{D-1} = \\mathbf 1$, where $\\mathbf 1$ is a $D$-dimensional vector containing only the value 1 in each row.\n",
        "\n",
        "Thus:\n",
        "\n",
        "$$\n",
        "\\mathbf s_{n} = \\mathbf Q^{n-D+1} \\cdot \\mathbf 1, \\quad n \\geq D.\n",
        "$$\n"
      ],
      "metadata": {
        "id": "T47sC-QhthcL"
      }
    },
    {
      "cell_type": "code",
      "source": [
        "import numpy\n",
        "import cupy\n",
        "import sympy\n",
        "from typing import Callable, Tuple\n",
        "\n",
        "def fast_lfib(D: int, m: int, xp=numpy) -> Tuple[Callable[[int], int], numpy.ndarray | cupy.ndarray]:\n",
        "    \"\"\"\n",
        "    Creates a fast Lagged Fibonacci Generator (LFG) using matrix exponentiation.\n",
        "\n",
        "    Args:\n",
        "        D (int): The lag period of the generator. Must be >= 2.\n",
        "        m (int): The modulus to apply for generating the sequence. Must be > 0.\n",
        "        xp: The array library to use for computation (e.g., `numpy` or `cupy`).\n",
        "            Defaults to `numpy`.\n",
        "\n",
        "    Returns:\n",
        "        Tuple[Callable[[int], int], numpy.ndarray | cupy.ndarray]:\n",
        "            - A generator function that computes $S_n$ efficiently.\n",
        "            - The transformation matrix $\\mathbf{Q}$ used for matrix exponentiation.\n",
        "\n",
        "    Examples:\n",
        "        >>> generator, Q = fast_lfib(5, 100, xp=numpy)\n",
        "        >>> S_n = generator(10)\n",
        "        >>> print(S_n)\n",
        "    \"\"\"\n",
        "    Q = xp.zeros((D, D), dtype=xp.int64)\n",
        "    Q[-1, 0] = 1\n",
        "    Q[-1, 1] = 1\n",
        "\n",
        "    i, j = 0, 1\n",
        "    while j < D:\n",
        "        Q[i, j] = 1\n",
        "        i, j = i + 1, j + 1\n",
        "\n",
        "    def fast_pow(A: numpy.ndarray | cupy.ndarray, p: int, m: int) -> numpy.ndarray | cupy.ndarray:\n",
        "        \"\"\"\n",
        "        Computes $A^p \\mod m$ using binary exponentiation.\n",
        "\n",
        "        Args:\n",
        "            A (numpy.ndarray | cupy.ndarray): The input matrix.\n",
        "            p (int): The power to raise the matrix to. Must be >= 0.\n",
        "            m (int): The modulus to apply. Must be > 0.\n",
        "\n",
        "        Returns:\n",
        "            numpy.ndarray | cupy.ndarray: The result of $A^p \\mod m$.\n",
        "        \"\"\"\n",
        "        res = xp.eye(A.shape[0], dtype=xp.int64)\n",
        "        while p > 0:\n",
        "            if (p & 1) > 0:\n",
        "                res = (res @ A) % m\n",
        "            p //= 2\n",
        "            A = (A @ A) % m\n",
        "        return res\n",
        "\n",
        "    def generator(n: int) -> int:\n",
        "        \"\"\"\n",
        "        Computes the $n$th term in the Lagged Fibonacci sequence.\n",
        "\n",
        "        Args:\n",
        "            n (int): The index of the term to compute. Must be >= D.\n",
        "\n",
        "        Returns:\n",
        "            int: The value of $S_n \\mod m$.\n",
        "        \"\"\"\n",
        "        SS = fast_pow(Q, n - D + 1, m)\n",
        "        return int(SS[-1, :].sum() % m)\n",
        "\n",
        "    return generator, Q"
      ],
      "metadata": {
        "id": "Vsgo4lz_X3Qu"
      },
      "execution_count": 25,
      "outputs": []
    },
    {
      "cell_type": "code",
      "source": [
        "D = 5\n",
        "n = 2**10+5\n",
        "m = 1234567891011\n",
        "\n",
        "gen, Q = fast_lfib(D=D, m=m, xp=cupy)\n",
        "print(\"Lagged Fibonacci Matrix Q:\")\n",
        "sympy.Matrix(Q.get()) # .get() only required for cupy\n",
        "# sympy.print_latex(sympy.Matrix(Q.get()))"
      ],
      "metadata": {
        "id": "Z7AmfG0qX_v1",
        "colab": {
          "base_uri": "https://localhost:8080/",
          "height": 136
        },
        "outputId": "817694dd-d0b6-4500-98b5-722efe6c0a7c"
      },
      "execution_count": 26,
      "outputs": [
        {
          "output_type": "stream",
          "name": "stdout",
          "text": [
            "Lagged Fibonacci Matrix Q:\n"
          ]
        },
        {
          "output_type": "execute_result",
          "data": {
            "text/plain": [
              "Matrix([\n",
              "[0, 1, 0, 0, 0],\n",
              "[0, 0, 1, 0, 0],\n",
              "[0, 0, 0, 1, 0],\n",
              "[0, 0, 0, 0, 1],\n",
              "[1, 1, 0, 0, 0]])"
            ],
            "text/latex": "$\\displaystyle \\left[\\begin{matrix}0 & 1 & 0 & 0 & 0\\\\0 & 0 & 1 & 0 & 0\\\\0 & 0 & 0 & 1 & 0\\\\0 & 0 & 0 & 0 & 1\\\\1 & 1 & 0 & 0 & 0\\end{matrix}\\right]$"
          },
          "metadata": {},
          "execution_count": 26
        }
      ]
    },
    {
      "cell_type": "code",
      "source": [
        "start = time.time()\n",
        "S = gen(n)\n",
        "print(\"Time needed (in seconds):\", time.time() - start)\n",
        "print(f\"Solution for S_{n} (mod {m}) is {S}\")"
      ],
      "metadata": {
        "colab": {
          "base_uri": "https://localhost:8080/"
        },
        "id": "qdVEeygfr2UV",
        "outputId": "f82f2e63-8fae-4751-b583-cd3e422a5696"
      },
      "execution_count": 27,
      "outputs": [
        {
          "output_type": "stream",
          "name": "stdout",
          "text": [
            "Time needed (in seconds): 0.0023157596588134766\n",
            "Solution for S_1029 (mod 1234567891011) is 253512699721\n"
          ]
        }
      ]
    },
    {
      "cell_type": "markdown",
      "source": [
        "## Final Example: Compute $S_n$ with a large value of $n$ and $D$"
      ],
      "metadata": {
        "id": "HILi_ENxu1TX"
      }
    },
    {
      "cell_type": "code",
      "source": [
        "D = 4000\n",
        "n = 10**20\n",
        "m = 1234567891011\n",
        "\n",
        "gen, Q = fast_lfib(D=D, m=m, xp=cupy)\n",
        "\n",
        "start = time.time()\n",
        "S = gen(n)\n",
        "print(\"Time needed (in seconds):\", time.time() - start)\n",
        "print(f\"Solution for S_{n} (mod {m}) is {S}\")"
      ],
      "metadata": {
        "colab": {
          "base_uri": "https://localhost:8080/"
        },
        "id": "KLLQ44QFunuQ",
        "outputId": "be472f84-b5e8-410c-a4b6-d864d06aded2"
      },
      "execution_count": 36,
      "outputs": [
        {
          "output_type": "stream",
          "name": "stdout",
          "text": [
            "Time needed (in seconds): 14.027729272842407\n",
            "Solution for S_100000000000000000000 (mod 1234567891011) is 838042074774\n"
          ]
        }
      ]
    }
  ]
}