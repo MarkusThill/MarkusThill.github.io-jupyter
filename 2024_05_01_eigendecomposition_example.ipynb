{
  "nbformat": 4,
  "nbformat_minor": 0,
  "metadata": {
    "colab": {
      "provenance": [],
      "authorship_tag": "ABX9TyPGIvVw8Fpy9znHZmF0KFc8",
      "include_colab_link": true
    },
    "kernelspec": {
      "name": "python3",
      "display_name": "Python 3"
    },
    "language_info": {
      "name": "python"
    }
  },
  "cells": [
    {
      "cell_type": "markdown",
      "metadata": {
        "id": "view-in-github",
        "colab_type": "text"
      },
      "source": [
        "<a href=\"https://colab.research.google.com/github/MarkusThill/MarkusThill.github.io-jupyter/blob/main/eigendecomposition_example.ipynb\" target=\"_parent\"><img src=\"https://colab.research.google.com/assets/colab-badge.svg\" alt=\"Open In Colab\"/></a>"
      ]
    },
    {
      "cell_type": "markdown",
      "source": [
        "# Eigendecomposition: Python Example"
      ],
      "metadata": {
        "id": "omVNGsXBPdhq"
      }
    },
    {
      "cell_type": "markdown",
      "source": [
        "## Derivation"
      ],
      "metadata": {
        "id": "OVEr6gTQPmIr"
      }
    },
    {
      "cell_type": "markdown",
      "source": [
        "A vector $\\mathbf{v}_i \\in \\mathbb{C}^{n}$ is called the $i$-th eigenvector of a matrix $\\mathbf{A} \\in \\mathbb{R}^{n \\times n}$, if it satisfies the simple equation\n",
        "\n",
        "$$\n",
        "\\begin{align}\n",
        "    \\mathbf{A} \\mathbf{v}_i = \\lambda_i \\mathbf{v}_i,  \\tag{1}\n",
        "\\end{align}\n",
        "$$\n",
        "\n",
        "for a scalar value $\\lambda_i \\in \\mathbb{C}$, called an eigenvalue. (Assuming the matrix $\\mathbf{A}$ is real-valued, the eigenvalues and eigenvectors might still be complex.)\n",
        "Let us further assume that the $n$ eigenvectors of matrix $\\mathbf{A}$ are linearly independent.\n",
        "\n",
        "We can now 'horizontally' stack the eigenvectors into a matrix $\\mathbf{Q} \\in \\mathbb{C}^{n \\times n}$:\n",
        "\n",
        "$$\n",
        "\\begin{align}\n",
        "    \\mathbf{Q} = \\big[\\mathbf{v}_1, \\mathbf{v}_2, \\ldots, \\mathbf{v}_n \\big].  \\tag{2}\n",
        "\\end{align}\n",
        "$$\n",
        "\n",
        "Multiplying $\\mathbf{A}$ with $\\mathbf{Q}$ gives us:\n",
        "\n",
        "$$\n",
        "\\begin{align}\n",
        "    \\mathbf{A}\\mathbf{Q} = \\big[\\mathbf{A}\\mathbf{v}_1, \\mathbf{A}\\mathbf{v}_2, \\ldots, \\mathbf{A}\\mathbf{v}_n \\big].  \\tag{3}\n",
        "\\end{align}\n",
        "$$\n",
        "\n",
        "If we compare Eq. (3) with Eq. (1), we can see that:\n",
        "\n",
        "$$\n",
        "\\begin{align}\n",
        "    \\mathbf{A}\\mathbf{Q} = \\big[\\lambda_1\\mathbf{v}_1, \\lambda_2\\mathbf{v}_2, \\ldots, \\lambda_n\\mathbf{v}_n \\big].  \\tag{4}\n",
        "\\end{align}\n",
        "$$\n",
        "\n",
        "If we now define a diagonal matrix carrying the eigenvalues $\\lambda_i$ as\n",
        "\n",
        "$$\n",
        "\\begin{align}\n",
        "    \\mathbf{\\Lambda} =\n",
        "        \\begin{bmatrix}\n",
        "            \\lambda_1 & 0 & \\ldots & 0\\\\\n",
        "            0 & \\lambda_2 & \\ldots & 0 \\\\\n",
        "            \\vdots & \\vdots & \\ddots & \\vdots \\\\\n",
        "            0 & 0 & \\ldots & \\lambda_n\n",
        "        \\end{bmatrix}, \\tag{5}\n",
        "\\end{align}\n",
        "$$\n",
        "\n",
        "we see that\n",
        "\n",
        "$$\n",
        "\\begin{align}\n",
        "    \\mathbf{Q}\\mathbf{\\Lambda} = \\big[\\lambda_1\\mathbf{v}_1, \\lambda_2\\mathbf{v}_2, \\ldots, \\lambda_n\\mathbf{v}_n \\big]  \\tag{6}\n",
        "\\end{align}\n",
        "$$\n",
        "\n",
        "which is equal to Eq. (4):\n",
        "\n",
        "$$\n",
        "\\begin{align}\n",
        "    \\mathbf{Q}\\mathbf{\\Lambda} = \\mathbf{A}\\mathbf{Q}.  \\tag{7}\n",
        "\\end{align}\n",
        "$$\n",
        "\n",
        "One final rearrangement -- post-multiplying Eq. (7) with $\\mathbf{Q}^{-1}$ -- and we are done:\n",
        "\n",
        "$$\n",
        "\\begin{align}\n",
        "    \\mathbf{A} = \\mathbf{Q}\\mathbf{\\Lambda}\\mathbf{Q}^{-1}.  \\tag{8}\n",
        "\\end{align}\n",
        "$$\n",
        "\n",
        "Eq. (8) is also called the eigendecomposition of matrix $\\mathbf{A}$.\n",
        "\n"
      ],
      "metadata": {
        "id": "figfibtUKg58"
      }
    },
    {
      "cell_type": "markdown",
      "source": [
        "\n",
        "## Example"
      ],
      "metadata": {
        "id": "KY2Zz0rnPTNl"
      }
    },
    {
      "cell_type": "code",
      "execution_count": 71,
      "metadata": {
        "id": "YjJ8NVEPAAZP"
      },
      "outputs": [],
      "source": [
        "# import SymPy. It is a neat Python library for symbolic mathematics\n",
        "from sympy import *"
      ]
    },
    {
      "cell_type": "code",
      "source": [
        "# Define a 4x4 matrix\n",
        "# You might also want to try other matrices.\n",
        "A = Matrix([[2,-1,-1,0],[-1,3,-1,-1], [-1,-1,3,-1],[0,-1,-1,2]])\n",
        "A"
      ],
      "metadata": {
        "colab": {
          "base_uri": "https://localhost:8080/",
          "height": 98
        },
        "id": "SpEPA2TxABVG",
        "outputId": "656edf6e-4140-475b-9590-dade59a6f4b9"
      },
      "execution_count": 72,
      "outputs": [
        {
          "output_type": "execute_result",
          "data": {
            "text/plain": [
              "Matrix([\n",
              "[ 2, -1, -1,  0],\n",
              "[-1,  3, -1, -1],\n",
              "[-1, -1,  3, -1],\n",
              "[ 0, -1, -1,  2]])"
            ],
            "text/latex": "$\\displaystyle \\left[\\begin{matrix}2 & -1 & -1 & 0\\\\-1 & 3 & -1 & -1\\\\-1 & -1 & 3 & -1\\\\0 & -1 & -1 & 2\\end{matrix}\\right]$"
          },
          "metadata": {},
          "execution_count": 72
        }
      ]
    },
    {
      "cell_type": "code",
      "source": [
        "A.eigenvects"
      ],
      "metadata": {
        "colab": {
          "base_uri": "https://localhost:8080/",
          "height": 587
        },
        "id": "aOU0S7z9QMU8",
        "outputId": "5ef81242-52cd-470a-f9d2-989c821267e2"
      },
      "execution_count": 83,
      "outputs": [
        {
          "output_type": "execute_result",
          "data": {
            "text/plain": [
              "<bound method MatrixEigen.eigenvects of Matrix([\n",
              "[ 2, -1, -1,  0],\n",
              "[-1,  3, -1, -1],\n",
              "[-1, -1,  3, -1],\n",
              "[ 0, -1, -1,  2]])>"
            ],
            "text/html": [
              "<div style=\"max-width:800px; border: 1px solid var(--colab-border-color);\"><style>\n",
              "      pre.function-repr-contents {\n",
              "        overflow-x: auto;\n",
              "        padding: 8px 12px;\n",
              "        max-height: 500px;\n",
              "      }\n",
              "\n",
              "      pre.function-repr-contents.function-repr-contents-collapsed {\n",
              "        cursor: pointer;\n",
              "        max-height: 100px;\n",
              "      }\n",
              "    </style>\n",
              "    <pre style=\"white-space: initial; background:\n",
              "         var(--colab-secondary-surface-color); padding: 8px 12px;\n",
              "         border-bottom: 1px solid var(--colab-border-color);\"><b>sympy.matrices.matrices.MatrixEigen.eigenvects</b><br/>def eigenvects(error_when_incomplete=True, iszerofunc=_iszero, **flags)</pre><pre class=\"function-repr-contents function-repr-contents-collapsed\" style=\"\"><a class=\"filepath\" style=\"display:none\" href=\"#\">/usr/local/lib/python3.10/dist-packages/sympy/matrices/matrices.py</a>Compute eigenvectors of the matrix.\n",
              "\n",
              "Parameters\n",
              "==========\n",
              "\n",
              "error_when_incomplete : bool, optional\n",
              "    Raise an error when not all eigenvalues are computed. This is\n",
              "    caused by ``roots`` not returning a full list of eigenvalues.\n",
              "\n",
              "iszerofunc : function, optional\n",
              "    Specifies a zero testing function to be used in ``rref``.\n",
              "\n",
              "    Default value is ``_iszero``, which uses SymPy&#x27;s naive and fast\n",
              "    default assumption handler.\n",
              "\n",
              "    It can also accept any user-specified zero testing function, if it\n",
              "    is formatted as a function which accepts a single symbolic argument\n",
              "    and returns ``True`` if it is tested as zero and ``False`` if it\n",
              "    is tested as non-zero, and ``None`` if it is undecidable.\n",
              "\n",
              "simplify : bool or function, optional\n",
              "    If ``True``, ``as_content_primitive()`` will be used to tidy up\n",
              "    normalization artifacts.\n",
              "\n",
              "    It will also be used by the ``nullspace`` routine.\n",
              "\n",
              "chop : bool or positive number, optional\n",
              "    If the matrix contains any Floats, they will be changed to Rationals\n",
              "    for computation purposes, but the answers will be returned after\n",
              "    being evaluated with evalf. The ``chop`` flag is passed to ``evalf``.\n",
              "    When ``chop=True`` a default precision will be used; a number will\n",
              "    be interpreted as the desired level of precision.\n",
              "\n",
              "Returns\n",
              "=======\n",
              "\n",
              "ret : [(eigenval, multiplicity, eigenspace), ...]\n",
              "    A ragged list containing tuples of data obtained by ``eigenvals``\n",
              "    and ``nullspace``.\n",
              "\n",
              "    ``eigenspace`` is a list containing the ``eigenvector`` for each\n",
              "    eigenvalue.\n",
              "\n",
              "    ``eigenvector`` is a vector in the form of a ``Matrix``. e.g.\n",
              "    a vector of length 3 is returned as ``Matrix([a_1, a_2, a_3])``.\n",
              "\n",
              "Raises\n",
              "======\n",
              "\n",
              "NotImplementedError\n",
              "    If failed to compute nullspace.\n",
              "\n",
              "Examples\n",
              "========\n",
              "\n",
              "&gt;&gt;&gt; from sympy import Matrix\n",
              "&gt;&gt;&gt; M = Matrix(3, 3, [0, 1, 1, 1, 0, 0, 1, 1, 1])\n",
              "&gt;&gt;&gt; M.eigenvects()\n",
              "[(-1, 1, [Matrix([\n",
              "[-1],\n",
              "[ 1],\n",
              "[ 0]])]), (0, 1, [Matrix([\n",
              "[ 0],\n",
              "[-1],\n",
              "[ 1]])]), (2, 1, [Matrix([\n",
              "[2/3],\n",
              "[1/3],\n",
              "[  1]])])]\n",
              "\n",
              "See Also\n",
              "========\n",
              "\n",
              "eigenvals\n",
              "MatrixSubspaces.nullspace</pre>\n",
              "      <script>\n",
              "      if (google.colab.kernel.accessAllowed && google.colab.files && google.colab.files.view) {\n",
              "        for (const element of document.querySelectorAll('.filepath')) {\n",
              "          element.style.display = 'block'\n",
              "          element.onclick = (event) => {\n",
              "            event.preventDefault();\n",
              "            event.stopPropagation();\n",
              "            google.colab.files.view(element.textContent, 378);\n",
              "          };\n",
              "        }\n",
              "      }\n",
              "      for (const element of document.querySelectorAll('.function-repr-contents')) {\n",
              "        element.onclick = (event) => {\n",
              "          event.preventDefault();\n",
              "          event.stopPropagation();\n",
              "          element.classList.toggle('function-repr-contents-collapsed');\n",
              "        };\n",
              "      }\n",
              "      </script>\n",
              "      </div>"
            ]
          },
          "metadata": {},
          "execution_count": 83
        }
      ]
    },
    {
      "cell_type": "code",
      "source": [
        "# eigenvects() returns a list of tuples of the form (eigenvalue, algebraic_multiplicity, [eigenvectors])\n",
        "# We will only need the eigenvalues and eigenvectors\n",
        "eig_vecs = A.eigenvects()\n",
        "eig_vecs[0]"
      ],
      "metadata": {
        "colab": {
          "base_uri": "https://localhost:8080/"
        },
        "id": "VZ0rGyngAHj3",
        "outputId": "08309d67-d8bb-4bfc-d7ef-dd9c6d899e92"
      },
      "execution_count": 73,
      "outputs": [
        {
          "output_type": "execute_result",
          "data": {
            "text/plain": [
              "(0,\n",
              " 1,\n",
              " [Matrix([\n",
              "  [1],\n",
              "  [1],\n",
              "  [1],\n",
              "  [1]])])"
            ]
          },
          "metadata": {},
          "execution_count": 73
        }
      ]
    },
    {
      "cell_type": "code",
      "source": [
        "# Extract the eigenvectors from eig_vecs\n",
        "v = [v for ev in eig_vecs for v in ev[-1]]\n",
        "v"
      ],
      "metadata": {
        "colab": {
          "base_uri": "https://localhost:8080/"
        },
        "id": "hc7jv0HHAcvC",
        "outputId": "6514d975-a38f-4290-818e-94d09c01eb7e"
      },
      "execution_count": 74,
      "outputs": [
        {
          "output_type": "execute_result",
          "data": {
            "text/plain": [
              "[Matrix([\n",
              " [1],\n",
              " [1],\n",
              " [1],\n",
              " [1]]),\n",
              " Matrix([\n",
              " [-1],\n",
              " [ 0],\n",
              " [ 0],\n",
              " [ 1]]),\n",
              " Matrix([\n",
              " [ 0],\n",
              " [-1],\n",
              " [ 1],\n",
              " [ 0]]),\n",
              " Matrix([\n",
              " [ 1],\n",
              " [-2],\n",
              " [ 0],\n",
              " [ 1]])]"
            ]
          },
          "metadata": {},
          "execution_count": 74
        }
      ]
    },
    {
      "cell_type": "code",
      "source": [
        "# Extract the eigenvalues from eig_vecs\n",
        "λ = [ev[0] for ev in eig_vecs for _ in range(len(ev[-1]))]\n",
        "λ"
      ],
      "metadata": {
        "colab": {
          "base_uri": "https://localhost:8080/"
        },
        "id": "0tWnQ-47HdY7",
        "outputId": "bdee338d-2b50-46ad-b885-e969fde8e722"
      },
      "execution_count": 75,
      "outputs": [
        {
          "output_type": "execute_result",
          "data": {
            "text/plain": [
              "[0, 2, 4, 4]"
            ]
          },
          "metadata": {},
          "execution_count": 75
        }
      ]
    },
    {
      "cell_type": "code",
      "source": [
        "Q = Matrix.hstack(*v)\n",
        "Q"
      ],
      "metadata": {
        "colab": {
          "base_uri": "https://localhost:8080/",
          "height": 98
        },
        "id": "WC9w-yAPGRtM",
        "outputId": "bd530e21-2aea-4785-81a3-93cb7ff87e78"
      },
      "execution_count": 76,
      "outputs": [
        {
          "output_type": "execute_result",
          "data": {
            "text/plain": [
              "Matrix([\n",
              "[1, -1,  0,  1],\n",
              "[1,  0, -1, -2],\n",
              "[1,  0,  1,  0],\n",
              "[1,  1,  0,  1]])"
            ],
            "text/latex": "$\\displaystyle \\left[\\begin{matrix}1 & -1 & 0 & 1\\\\1 & 0 & -1 & -2\\\\1 & 0 & 1 & 0\\\\1 & 1 & 0 & 1\\end{matrix}\\right]$"
          },
          "metadata": {},
          "execution_count": 76
        }
      ]
    },
    {
      "cell_type": "code",
      "source": [
        "Λ = diag(*λ)\n",
        "Λ"
      ],
      "metadata": {
        "colab": {
          "base_uri": "https://localhost:8080/",
          "height": 98
        },
        "id": "aH8MdCo0CyuZ",
        "outputId": "2f3a8e18-6d18-4fc5-c217-68cb8b6b194a"
      },
      "execution_count": 77,
      "outputs": [
        {
          "output_type": "execute_result",
          "data": {
            "text/plain": [
              "Matrix([\n",
              "[0, 0, 0, 0],\n",
              "[0, 2, 0, 0],\n",
              "[0, 0, 4, 0],\n",
              "[0, 0, 0, 4]])"
            ],
            "text/latex": "$\\displaystyle \\left[\\begin{matrix}0 & 0 & 0 & 0\\\\0 & 2 & 0 & 0\\\\0 & 0 & 4 & 0\\\\0 & 0 & 0 & 4\\end{matrix}\\right]$"
          },
          "metadata": {},
          "execution_count": 77
        }
      ]
    },
    {
      "cell_type": "code",
      "source": [
        "# Use the relation we found above:\n",
        "A_new = Q * Λ * Q**-1\n",
        "A_new"
      ],
      "metadata": {
        "colab": {
          "base_uri": "https://localhost:8080/",
          "height": 98
        },
        "id": "SvFhvrprC0Rc",
        "outputId": "6c7cfbb1-6539-43ba-ed1d-615f8a9ee6e3"
      },
      "execution_count": 80,
      "outputs": [
        {
          "output_type": "execute_result",
          "data": {
            "text/plain": [
              "Matrix([\n",
              "[ 2, -1, -1,  0],\n",
              "[-1,  3, -1, -1],\n",
              "[-1, -1,  3, -1],\n",
              "[ 0, -1, -1,  2]])"
            ],
            "text/latex": "$\\displaystyle \\left[\\begin{matrix}2 & -1 & -1 & 0\\\\-1 & 3 & -1 & -1\\\\-1 & -1 & 3 & -1\\\\0 & -1 & -1 & 2\\end{matrix}\\right]$"
          },
          "metadata": {},
          "execution_count": 80
        }
      ]
    },
    {
      "cell_type": "code",
      "source": [
        "# Verify, that our 'new' matrix is in fact equal to the original one\n",
        "A_new == A"
      ],
      "metadata": {
        "colab": {
          "base_uri": "https://localhost:8080/"
        },
        "id": "ANCm3C7uJ218",
        "outputId": "c8ac5ad0-f214-4bc0-9c21-818d1cc56f87"
      },
      "execution_count": 81,
      "outputs": [
        {
          "output_type": "execute_result",
          "data": {
            "text/plain": [
              "True"
            ]
          },
          "metadata": {},
          "execution_count": 81
        }
      ]
    }
  ]
}
