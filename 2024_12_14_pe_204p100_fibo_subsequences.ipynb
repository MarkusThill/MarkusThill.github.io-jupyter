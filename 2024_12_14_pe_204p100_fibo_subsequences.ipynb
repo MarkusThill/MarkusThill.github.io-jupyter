{
  "nbformat": 4,
  "nbformat_minor": 0,
  "metadata": {
    "colab": {
      "provenance": [],
      "authorship_tag": "ABX9TyMvyVBlNZYjdTx1+Y+AppBq",
      "include_colab_link": true
    },
    "kernelspec": {
      "name": "python3",
      "display_name": "Python 3"
    },
    "language_info": {
      "name": "python"
    }
  },
  "cells": [
    {
      "cell_type": "markdown",
      "metadata": {
        "id": "view-in-github",
        "colab_type": "text"
      },
      "source": [
        "<a href=\"https://colab.research.google.com/github/MarkusThill/MarkusThill.github.io-jupyter/blob/main/2024_12_14_pe_204p100_fibo_subsequences.ipynb\" target=\"_parent\"><img src=\"https://colab.research.google.com/assets/colab-badge.svg\" alt=\"Open In Colab\"/></a>"
      ]
    },
    {
      "cell_type": "code",
      "execution_count": null,
      "metadata": {
        "id": "A-zoK5Jpf7cj"
      },
      "outputs": [],
      "source": [
        "import sympy\n",
        "import math\n",
        "import time"
      ]
    },
    {
      "cell_type": "markdown",
      "source": [
        "It is possible to compute the (n+1)-th Fibonacci number $F_{n+1}$ using a matrix\n",
        "\n",
        "$$\n",
        "\\mathbf Q =\n",
        "\\begin{pmatrix}\n",
        "0 & 1 \\\\\n",
        "1 & 1\n",
        "\\end{pmatrix},\n",
        "$$\n",
        "\n",
        "by multplying $\\mathbf Q$ with a vector containing the current last 2 terms of the sequence:\n",
        "\n",
        "$$\n",
        "\\begin{align}\n",
        "\\begin{pmatrix}\n",
        "0 & 1 \\\\\n",
        "1 & 1\n",
        "\\end{pmatrix}\n",
        "\\cdot\n",
        "\\begin{pmatrix}\n",
        "F_{n-2} \\\\\n",
        "F_{n-1}\n",
        "\\end{pmatrix}\n",
        "&=\n",
        "\\begin{pmatrix}\n",
        "F_{n-1} \\\\\n",
        "F_{n-2} + F_{n-1}\n",
        "\\end{pmatrix}\\\\\n",
        "&=\n",
        "\\begin{pmatrix}\n",
        "F_{n-1} \\\\\n",
        "F_{n}\n",
        "\\end{pmatrix}\n",
        "\\end{align}\n",
        "$$\n",
        "\n",
        "The next element can be computed like this:\n",
        "\n",
        "$$\n",
        "\\begin{align}\n",
        "\\begin{pmatrix}\n",
        "0 & 1 \\\\\n",
        "1 & 1\n",
        "\\end{pmatrix}\n",
        "\\cdot\n",
        "\\begin{pmatrix}\n",
        "F_{n-1} \\\\\n",
        "F_{n}\n",
        "\\end{pmatrix}\n",
        "&= \\begin{pmatrix}\n",
        "0 & 1 \\\\\n",
        "1 & 1\n",
        "\\end{pmatrix}^2\n",
        "\\begin{pmatrix}\n",
        "F_{n-2} \\\\\n",
        "F_{n-1}\n",
        "\\end{pmatrix}\n",
        "\\\\\n",
        "&=\n",
        "\\begin{pmatrix}\n",
        "F_{n} \\\\\n",
        "F_{n-1} + F_{n}\n",
        "\\end{pmatrix} \\\\\n",
        "&=\n",
        "\\begin{pmatrix}\n",
        "F_{n} \\\\\n",
        "F_{n+1}\n",
        "\\end{pmatrix}\n",
        "\\end{align}.\n",
        "$$\n",
        "\n",
        "Note that we only needed to square the matrix $\\mathbf Q$ and multiply it with $(F_{n-2} \\ \\ F_{n-1})^\\mathsf T$ in order to obtain $F_{n+1}$.\n",
        "\n",
        "Generally, we find:\n",
        "\n",
        "$$\n",
        "\\begin{align}\n",
        "\\begin{pmatrix}\n",
        "F_{n+k-1} \\\\\n",
        "F_{n+k}\n",
        "\\end{pmatrix}\n",
        "=\n",
        "\\begin{pmatrix}\n",
        "0 & 1 \\\\\n",
        "1 & 1\n",
        "\\end{pmatrix}^{k+1}\n",
        " \\begin{pmatrix}\n",
        "F_{n-2} \\\\\n",
        "F_{n-1}\n",
        "\\end{pmatrix} , \\ k \\geq 0.\n",
        "\\end{align}\n",
        "$$\n"
      ],
      "metadata": {
        "id": "iptQlqphTTmQ"
      }
    },
    {
      "cell_type": "markdown",
      "source": [
        "If we start with $F_{n-2}=0$ and $F_{n-1}=1$, we have ($n=2$):\n",
        "\n",
        "$$\n",
        "\\begin{align}\n",
        "\\begin{pmatrix}\n",
        "F_{2+k-1} \\\\\n",
        "F_{2+k}\n",
        "\\end{pmatrix}\n",
        "=\n",
        "\\begin{pmatrix}\n",
        "F_{k+1} \\\\\n",
        "F_{k+2}\n",
        "\\end{pmatrix}\n",
        "=\n",
        "\\begin{pmatrix}\n",
        "0 & 1 \\\\\n",
        "1 & 1\n",
        "\\end{pmatrix}^{k+1}\n",
        "\\begin{pmatrix}\n",
        "0 \\\\\n",
        "1\n",
        "\\end{pmatrix}, \\ k \\geq 0\n",
        "\\end{align}\n",
        "$$\n",
        "\n",
        "or equivalently:\n",
        "\n",
        "$$\n",
        "\\begin{align}\n",
        "\\begin{pmatrix}\n",
        "F_{k-1} \\\\\n",
        "F_{k}\n",
        "\\end{pmatrix}\n",
        "=\n",
        "\\begin{pmatrix}\n",
        "0 & 1 \\\\\n",
        "1 & 1\n",
        "\\end{pmatrix}^{k-1}\n",
        "\\begin{pmatrix}\n",
        "0 \\\\\n",
        "1\n",
        "\\end{pmatrix}, \\ k \\geq 2\n",
        "\\end{align}\n",
        "$$\n",
        "\n",
        "If we are only interested in $F_k$, we can simply write:\n",
        "\n",
        "$$\n",
        "\\begin{align}\n",
        "F_{k}\n",
        "=\n",
        "\\begin{pmatrix}\n",
        "0 & 1 \\\\\n",
        "1 & 1\n",
        "\\end{pmatrix}^{k-1} \\Bigg|_{2,2}, \\ k \\geq 2,\n",
        "\\end{align}\n",
        "$$\n",
        "\n",
        "where the index $2,2$ refers to the element in the bottom-right corner."
      ],
      "metadata": {
        "id": "fAAt4DRDlYsf"
      }
    },
    {
      "cell_type": "code",
      "source": [
        "Q = sympy.ones(2)\n",
        "Q[0,0] = 0\n",
        "Q"
      ],
      "metadata": {
        "colab": {
          "base_uri": "https://localhost:8080/",
          "height": 58
        },
        "id": "fpIh-lHSTKD9",
        "outputId": "dc8f0542-0b49-49a2-de95-b43fb02c75fa"
      },
      "execution_count": null,
      "outputs": [
        {
          "output_type": "execute_result",
          "data": {
            "text/plain": [
              "Matrix([\n",
              "[0, 1],\n",
              "[1, 1]])"
            ],
            "text/latex": "$\\displaystyle \\left[\\begin{matrix}0 & 1\\\\1 & 1\\end{matrix}\\right]$"
          },
          "metadata": {},
          "execution_count": 2
        }
      ]
    },
    {
      "cell_type": "markdown",
      "source": [
        "For example, we can compute $F_{10}=55$ with:"
      ],
      "metadata": {
        "id": "O9oMcj5HVxaW"
      }
    },
    {
      "cell_type": "code",
      "source": [
        "Q**(10-1)"
      ],
      "metadata": {
        "colab": {
          "base_uri": "https://localhost:8080/",
          "height": 58
        },
        "id": "V-tXenW-UPK0",
        "outputId": "d767f970-9b8b-4518-fd16-3e1abd54facd"
      },
      "execution_count": null,
      "outputs": [
        {
          "output_type": "execute_result",
          "data": {
            "text/plain": [
              "Matrix([\n",
              "[21, 34],\n",
              "[34, 55]])"
            ],
            "text/latex": "$\\displaystyle \\left[\\begin{matrix}21 & 34\\\\34 & 55\\end{matrix}\\right]$"
          },
          "metadata": {},
          "execution_count": 3
        }
      ]
    },
    {
      "cell_type": "markdown",
      "source": [
        "We find $F_{10}$ in the bottom right corner of the resulting matrix.\n",
        "\n",
        "We get $F_{100}=354,224,848,179,261,915,075$ with:"
      ],
      "metadata": {
        "id": "bbQDapAYuLit"
      }
    },
    {
      "cell_type": "code",
      "source": [
        "Q**(100-1)"
      ],
      "metadata": {
        "colab": {
          "base_uri": "https://localhost:8080/",
          "height": 58
        },
        "id": "m3l5MsAquL4r",
        "outputId": "e07b0bf6-3d16-40c3-e1df-4defc6c8079f"
      },
      "execution_count": null,
      "outputs": [
        {
          "output_type": "execute_result",
          "data": {
            "text/plain": [
              "Matrix([\n",
              "[135301852344706746049, 218922995834555169026],\n",
              "[218922995834555169026, 354224848179261915075]])"
            ],
            "text/latex": "$\\displaystyle \\left[\\begin{matrix}135301852344706746049 & 218922995834555169026\\\\218922995834555169026 & 354224848179261915075\\end{matrix}\\right]$"
          },
          "metadata": {},
          "execution_count": 4
        }
      ]
    },
    {
      "cell_type": "markdown",
      "source": [
        "Furthermore, we can use a combination of exponential squaring and modular exponentation for fast computation:\n",
        "\n",
        "\\begin{align}\n",
        "Q^2 &\\equiv (Q\\bmod m) \\cdot (Q\\bmod m) \\pmod{m} \\\\\n",
        "Q^4 &\\equiv (Q^2\\bmod m) \\cdot (Q^2\\bmod m) \\pmod{m} \\\\\n",
        "Q^8 &\\equiv (Q^4\\bmod m) \\cdot (Q^4\\bmod m) \\pmod{m} \\\\\n",
        "& \\ \\ \\vdots\n",
        "\\end{align}\n",
        "\n",
        "Additionally, if we have already obtained the power $Q^p$, it is possible to calculate $Q^{p'} = Q^{p+\\Delta p'}$:\n",
        "\n",
        "\\begin{align}\n",
        "Q^{p'} &\\equiv (Q^p\\bmod m) \\cdot (Q^{\\Delta p'}\\bmod m) \\pmod{m}, \\\\\n",
        "\\end{align}\n",
        "\n",
        "where $(Q^{\\Delta p'}\\bmod m)$ can be determined based on the exponential squaring rules above.\n",
        "\n",
        "Now, we have everything to solve our example problem stated earlier.\n",
        "\n",
        "First we specify our constants:"
      ],
      "metadata": {
        "id": "FoVA3LjSWDHl"
      }
    },
    {
      "cell_type": "code",
      "source": [
        "m = 1110987654321 # modulus\n",
        "p_min = 10**15 # the first prime should be greater than this value\n",
        "N = 1000 # We want to compute 1000 Fibonacci numbers F_p for the given primes\n",
        "q = 10 # We want to use every q-th prime to compute our Fibonacci numbers"
      ],
      "metadata": {
        "id": "k0Uh_dK4QQUA"
      },
      "execution_count": null,
      "outputs": []
    },
    {
      "cell_type": "markdown",
      "source": [
        "## 1. Collect every `q`-th prime number larrger than `p_min`"
      ],
      "metadata": {
        "id": "MjiA_hL1w4Hv"
      }
    },
    {
      "cell_type": "code",
      "source": [
        "start = time.time()\n",
        "prime_list = []\n",
        "p = p_min\n",
        "for _ in range(N):\n",
        "  p = sympy.nextprime(p, q)\n",
        "  prime_list.append(p)\n",
        "\n",
        "assert len(prime_list) == N\n",
        "print(\"Done computing primes. Time in seconds:\", round(time.time() - start, 2))\n",
        "\n",
        "# This is already the case in this example, but in general the list has to\n",
        "# be sorted\n",
        "prime_list = sorted(prime_list)\n",
        "\n",
        "print(\"First 10 primes in the list:\")\n",
        "print(prime_list[:10])"
      ],
      "metadata": {
        "colab": {
          "base_uri": "https://localhost:8080/"
        },
        "id": "ooz7j_IGFXQQ",
        "outputId": "d58f8591-65dd-4879-8821-32b46b691162"
      },
      "execution_count": null,
      "outputs": [
        {
          "output_type": "stream",
          "name": "stdout",
          "text": [
            "Done computing primes. Time in seconds: 4.08\n",
            "First 10 primes in the list:\n",
            "[1000000000000279, 1000000000000783, 1000000000001209, 1000000000001623, 1000000000002193, 1000000000002467, 1000000000002683, 1000000000003001, 1000000000003309, 1000000000003871]\n"
          ]
        }
      ]
    },
    {
      "cell_type": "markdown",
      "source": [
        "## 2. Create a cache for $\\mathbf Q$, $\\mathbf Q^2$, $\\mathbf Q^4$, $\\mathbf Q^8$,  $\\ldots$  "
      ],
      "metadata": {
        "id": "l6ApZyLhxsN2"
      }
    },
    {
      "cell_type": "code",
      "source": [
        "# 2. Compute powers of the Fibonacci matrix Q^1, Q^2, Q^4, Q^4, etc. and store\n",
        "#    them for later\n",
        "start = time.time()\n",
        "i = 1\n",
        "fibo_power_cache = [] # contains the powers of the fibonacci matrix to 1,2,4,8,16,...\n",
        "Q = sympy.ones(2)\n",
        "Q[0,0] = 0\n",
        "while i < max(prime_list):\n",
        "  fibo_power_cache.append(Q)\n",
        "  Q = (Q @ Q) % m\n",
        "  i = i * 2\n",
        "print(\"Done creating cache. Time in seconds:\", round(time.time() - start, 2))\n"
      ],
      "metadata": {
        "id": "5YLHH81zgFI8",
        "colab": {
          "base_uri": "https://localhost:8080/"
        },
        "outputId": "a01cb989-3c6a-4aca-f912-645c9d3bf17b"
      },
      "execution_count": null,
      "outputs": [
        {
          "output_type": "stream",
          "name": "stdout",
          "text": [
            "Done creating cache. Time in seconds: 0.02\n"
          ]
        }
      ]
    },
    {
      "cell_type": "markdown",
      "source": [
        "## 3. Compute the actual Fibonacci Numbers $F_p \\bmod m$ for the given primes $p$"
      ],
      "metadata": {
        "id": "L95egyLoyaGR"
      }
    },
    {
      "cell_type": "code",
      "source": [
        "# 3. Compute the Fibonacci Numbers F_p for the given primes p\n",
        "#    Since we have to compute Q^p, we can use the precomputed powers in the cache.\n",
        "#    E.g., Q^11 = Q^8 @ Q^2 @ Q^1\n",
        "#    and   Q^14 = Q^11 @ Q^2 @ Q^1\n",
        "start = time.time()\n",
        "last_p = 1\n",
        "fib_list = []\n",
        "fib = sympy.eye(2)\n",
        "for idx, p in enumerate(prime_list):\n",
        "  p_diff = p - last_p\n",
        "\n",
        "  while p_diff > 0:\n",
        "    e = p_diff.bit_length() - 1 # math.floor(math.log2(p_diff))\n",
        "    fib @= fibo_power_cache[e]\n",
        "    fib = fib % m\n",
        "    p_diff -= 2**e\n",
        "\n",
        "  last_p = p\n",
        "\n",
        "  fib_list.append((p, fib[-1,-1]))\n",
        "\n",
        "print(\"Done computing Fibonacci numbers. Time in seconds:\", round(time.time() - start, 2))\n",
        "print(\"Last 10 Fibonacci numbers:\")\n",
        "for i in range(10):\n",
        "  print(f\"F_{fib_list[-i-1][0]} mod {m} = {fib_list[-i-1][1]}\")"
      ],
      "metadata": {
        "colab": {
          "base_uri": "https://localhost:8080/"
        },
        "id": "zGOcz5ewDIUZ",
        "outputId": "b7c30cd0-b5fc-41ef-c94f-69f7472b7444"
      },
      "execution_count": null,
      "outputs": [
        {
          "output_type": "stream",
          "name": "stdout",
          "text": [
            "Done computing Fibonacci numbers. Time in seconds: 1.19\n",
            "Last 10 Fibonacci numbers:\n",
            "F_1000000000349191 mod 1110987654321 = 382892723032\n",
            "F_1000000000348753 mod 1110987654321 = 1071406309063\n",
            "F_1000000000348337 mod 1110987654321 = 618378886060\n",
            "F_1000000000348009 mod 1110987654321 = 71281864435\n",
            "F_1000000000347763 mod 1110987654321 = 584619443096\n",
            "F_1000000000347581 mod 1110987654321 = 970898498456\n",
            "F_1000000000347211 mod 1110987654321 = 35392582421\n",
            "F_1000000000346819 mod 1110987654321 = 982178757842\n",
            "F_1000000000346411 mod 1110987654321 = 520718657315\n",
            "F_1000000000346197 mod 1110987654321 = 894644052794\n"
          ]
        }
      ]
    }
  ]
}